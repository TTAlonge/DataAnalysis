{
 "cells": [
  {
   "cell_type": "code",
   "execution_count": 8,
   "id": "6fd6201f",
   "metadata": {},
   "outputs": [
    {
     "name": "stdout",
     "output_type": "stream",
     "text": [
      "How much is the total price of purchased items?: c$35\n",
      "How much are you paying for the products purchased?: c$50\n",
      "Change in CAD: c$15\n",
      "Change in Cent: 1500\n",
      "Change in coins: Toonie 7, Loonie 1, Quarter 0, Dime 0, Nickel 0, Penny 0\n"
     ]
    }
   ],
   "source": [
    "'''\n",
    "Consider the software that runs on a self-checkout machine. One task that it must be able to perform is to determine how much \n",
    "change to provide when the shopper pays for a purchase with cash.\n",
    "Write a program that begins by reading a number of cents from the user as an integer. Then your program should compute and \n",
    "display the denominations of the coins that should be used to give that amount of change to the shopper. The change should \n",
    "be given using as few coins as possible. Assume that the machine is loaded with pennies, nickels, dimes, quarters, loonies and \n",
    "toonies.\n",
    "'''\n",
    "Product_price = int (input (\"How much is the total price of purchased items?: c$\"))\n",
    "Amount_paid = int (input (\"How much are you paying for the products purchased?: c$\"))\n",
    "\n",
    "#Calculation of change in CAD\n",
    "Change_in_dollars = Amount_paid - Product_price\n",
    "print(f\"Change in CAD not Naira*: c${Change_in_dollars}\")\n",
    "\n",
    "#Prices to cent\n",
    "Product_Price_in_cent = Product_price * 100\n",
    "Amount_paid_in_cent  = Amount_paid * 100\n",
    "\n",
    "#Calculation of change in cent\n",
    "change = Amount_paid_in_cent - Product_Price_in_cent\n",
    "print(f\"Change in Cent: {Change}\")\n",
    "\n",
    "# Calculate various cents\n",
    "Toonie = change // (100 * 2)\n",
    "remaining_change = change % (100 * 2)\n",
    "Loonie = remaining_change // (100)\n",
    "remaining_change %= (100)\n",
    "Quarter = remaining_change // (25)\n",
    "remaining_change %= (25)\n",
    "Dime = remaining_change // (10)\n",
    "remaining_change %= (10)\n",
    "Nickel = remaining_change // (5)\n",
    "Penny = remaining_change % (5)\n",
    "\n",
    "print(f\"Change in coins: Toonie {Toonie}, Loonie {Loonie}, Quarter {Quarter}, Dime {Dime}, Nickel {Nickel}, Penny {Penny}\")\n"
   ]
  },
  {
   "cell_type": "code",
   "execution_count": null,
   "id": "1daf3ffd",
   "metadata": {},
   "outputs": [],
   "source": []
  }
 ],
 "metadata": {
  "kernelspec": {
   "display_name": "Python 3 (ipykernel)",
   "language": "python",
   "name": "python3"
  },
  "language_info": {
   "codemirror_mode": {
    "name": "ipython",
    "version": 3
   },
   "file_extension": ".py",
   "mimetype": "text/x-python",
   "name": "python",
   "nbconvert_exporter": "python",
   "pygments_lexer": "ipython3",
   "version": "3.11.5"
  }
 },
 "nbformat": 4,
 "nbformat_minor": 5
}
